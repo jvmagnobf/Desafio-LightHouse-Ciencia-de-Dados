{
  "nbformat": 4,
  "nbformat_minor": 0,
  "metadata": {
    "colab": {
      "provenance": []
    },
    "kernelspec": {
      "name": "python3",
      "display_name": "Python 3"
    },
    "language_info": {
      "name": "python"
    }
  },
  "cells": [
    {
      "cell_type": "markdown",
      "source": [
        "# Desafio Ciência de Dados\n",
        "\n",
        "### João Victor Magno"
      ],
      "metadata": {
        "id": "Jo6kM8pafmHT"
      }
    },
    {
      "cell_type": "markdown",
      "source": [
        "### Primeiramente começamos importando as bibliotecas e funções que vamos utilizar no processo."
      ],
      "metadata": {
        "id": "gR2B8_2ugPGZ"
      }
    },
    {
      "cell_type": "code",
      "source": [
        "import pandas as pd\n",
        "import matplotlib.pyplot as plt\n",
        "import seaborn as sns\n",
        "import numpy as np\n",
        "from sklearn.model_selection import train_test_split\n",
        "from sklearn.linear_model import LinearRegression\n",
        "from sklearn.metrics import mean_absolute_error, mean_squared_error, r2_score\n",
        "from sklearn.preprocessing import MinMaxScaler\n",
        "from sklearn.ensemble import RandomForestRegressor\n",
        "import joblib"
      ],
      "metadata": {
        "id": "YnPNV1nmgytr"
      },
      "execution_count": 142,
      "outputs": []
    },
    {
      "cell_type": "markdown",
      "source": [
        "### Carregamos o dataset e verificamos as informações brutas dele antes de começarmos a limpeza e tratamento dos dados.\n",
        "\n",
        "Percebemos que a maioria das colunas é do tipo object e existem algumas colunas com valores nulos que precisaremos tratar."
      ],
      "metadata": {
        "id": "sVb0div1gOZQ"
      }
    },
    {
      "cell_type": "code",
      "execution_count": 127,
      "metadata": {
        "colab": {
          "base_uri": "https://localhost:8080/"
        },
        "id": "YPMNHYI4ZsVA",
        "outputId": "a4562027-3579-4452-f6f5-21b7023f72e9"
      },
      "outputs": [
        {
          "output_type": "stream",
          "name": "stdout",
          "text": [
            "Informações gerais:\n",
            "<class 'pandas.core.frame.DataFrame'>\n",
            "RangeIndex: 999 entries, 0 to 998\n",
            "Data columns (total 16 columns):\n",
            " #   Column         Non-Null Count  Dtype  \n",
            "---  ------         --------------  -----  \n",
            " 0   Unnamed: 0     999 non-null    int64  \n",
            " 1   Series_Title   999 non-null    object \n",
            " 2   Released_Year  999 non-null    object \n",
            " 3   Certificate    898 non-null    object \n",
            " 4   Runtime        999 non-null    object \n",
            " 5   Genre          999 non-null    object \n",
            " 6   IMDB_Rating    999 non-null    float64\n",
            " 7   Overview       999 non-null    object \n",
            " 8   Meta_score     842 non-null    float64\n",
            " 9   Director       999 non-null    object \n",
            " 10  Star1          999 non-null    object \n",
            " 11  Star2          999 non-null    object \n",
            " 12  Star3          999 non-null    object \n",
            " 13  Star4          999 non-null    object \n",
            " 14  No_of_Votes    999 non-null    int64  \n",
            " 15  Gross          830 non-null    object \n",
            "dtypes: float64(2), int64(2), object(12)\n",
            "memory usage: 125.0+ KB\n",
            "\n",
            "Dados brutos:\n",
            "       Unnamed: 0  IMDB_Rating  Meta_score   No_of_Votes\n",
            "count  999.000000   999.000000  842.000000  9.990000e+02\n",
            "mean   500.000000     7.947948   77.969121  2.716214e+05\n",
            "std    288.530761     0.272290   12.383257  3.209126e+05\n",
            "min      1.000000     7.600000   28.000000  2.508800e+04\n",
            "25%    250.500000     7.700000   70.000000  5.547150e+04\n",
            "50%    500.000000     7.900000   79.000000  1.383560e+05\n",
            "75%    749.500000     8.100000   87.000000  3.731675e+05\n",
            "max    999.000000     9.200000  100.000000  2.303232e+06\n",
            "\n",
            "Nulos por coluna:\n",
            "Unnamed: 0         0\n",
            "Series_Title       0\n",
            "Released_Year      0\n",
            "Certificate      101\n",
            "Runtime            0\n",
            "Genre              0\n",
            "IMDB_Rating        0\n",
            "Overview           0\n",
            "Meta_score       157\n",
            "Director           0\n",
            "Star1              0\n",
            "Star2              0\n",
            "Star3              0\n",
            "Star4              0\n",
            "No_of_Votes        0\n",
            "Gross            169\n",
            "dtype: int64\n"
          ]
        }
      ],
      "source": [
        "df = pd.read_csv('desafio_indicium_imdb.csv')\n",
        "\n",
        "print(\"Informações gerais:\")\n",
        "df.info()\n",
        "\n",
        "print(\"\\nDados brutos:\")\n",
        "print(df.describe())\n",
        "\n",
        "print(\"\\nNulos por coluna:\")\n",
        "print(df.isnull().sum())"
      ]
    },
    {
      "cell_type": "markdown",
      "source": [
        "### Conversão para númerico\n",
        "\n",
        "Convertemos as colunas Runtime, Gross, Released_Year e Certificate para tipos númericos. Percebemos que um dos valores de Released_Year se tornou nulo, então preenchemos ele com a moda. E também preenchemos os nulos da coluna Certificate com a moda.\n",
        "\n",
        "Após isso, realizamos One-Hot Encoding para as colunas de Genre e Certificate para que elas se tornem númericas. Como essas colunas não tem tantos valores diferentes podemos fazer isso sem muitos problemas."
      ],
      "metadata": {
        "id": "MfnbmMtZhe6r"
      }
    },
    {
      "cell_type": "code",
      "source": [
        "df_copy = df.copy()\n",
        "\n",
        "# Tratamento dos dados de object para numerico\n",
        "df_copy['Runtime'] = df_copy['Runtime'].str.replace(' min', '').astype(int)\n",
        "df_copy['Gross'] = pd.to_numeric(df_copy['Gross'].str.replace(',', '', regex=False), errors='coerce')\n",
        "df_copy['Released_Year'] = pd.to_numeric(df_copy['Released_Year'], errors='coerce')\n",
        "df_copy['Certificate'].fillna(df_copy['Certificate'].mode()[0], inplace=True)\n",
        "\n",
        "print(df_copy.isnull().sum())\n",
        "df_copy['Released_Year'].fillna(df_copy['Released_Year'].mode()[0], inplace=True)\n",
        "\n",
        "# Gerando One-Hot Encoding para as colunas Genre e Certificate\n",
        "genre_dummies = df_copy['Genre'].str.get_dummies(sep=', ')\n",
        "certificate_dummies = pd.get_dummies(df_copy['Certificate'], prefix='Cert')\n",
        "\n",
        "df_copy = pd.concat([df_copy, genre_dummies, certificate_dummies], axis=1)\n",
        "\n",
        "df_copy.drop(columns=['Genre', 'Certificate'], inplace=True)\n",
        "\n",
        "\n",
        "df_copy.info()"
      ],
      "metadata": {
        "colab": {
          "base_uri": "https://localhost:8080/"
        },
        "id": "Fljf2DS0kisM",
        "outputId": "f85d7182-f360-46ea-8239-14eea9e445e5"
      },
      "execution_count": 128,
      "outputs": [
        {
          "output_type": "stream",
          "name": "stdout",
          "text": [
            "Unnamed: 0         0\n",
            "Series_Title       0\n",
            "Released_Year      1\n",
            "Certificate        0\n",
            "Runtime            0\n",
            "Genre              0\n",
            "IMDB_Rating        0\n",
            "Overview           0\n",
            "Meta_score       157\n",
            "Director           0\n",
            "Star1              0\n",
            "Star2              0\n",
            "Star3              0\n",
            "Star4              0\n",
            "No_of_Votes        0\n",
            "Gross            169\n",
            "dtype: int64\n",
            "<class 'pandas.core.frame.DataFrame'>\n",
            "RangeIndex: 999 entries, 0 to 998\n",
            "Data columns (total 51 columns):\n",
            " #   Column         Non-Null Count  Dtype  \n",
            "---  ------         --------------  -----  \n",
            " 0   Unnamed: 0     999 non-null    int64  \n",
            " 1   Series_Title   999 non-null    object \n",
            " 2   Released_Year  999 non-null    float64\n",
            " 3   Runtime        999 non-null    int64  \n",
            " 4   IMDB_Rating    999 non-null    float64\n",
            " 5   Overview       999 non-null    object \n",
            " 6   Meta_score     842 non-null    float64\n",
            " 7   Director       999 non-null    object \n",
            " 8   Star1          999 non-null    object \n",
            " 9   Star2          999 non-null    object \n",
            " 10  Star3          999 non-null    object \n",
            " 11  Star4          999 non-null    object \n",
            " 12  No_of_Votes    999 non-null    int64  \n",
            " 13  Gross          830 non-null    float64\n",
            " 14  Action         999 non-null    int64  \n",
            " 15  Adventure      999 non-null    int64  \n",
            " 16  Animation      999 non-null    int64  \n",
            " 17  Biography      999 non-null    int64  \n",
            " 18  Comedy         999 non-null    int64  \n",
            " 19  Crime          999 non-null    int64  \n",
            " 20  Drama          999 non-null    int64  \n",
            " 21  Family         999 non-null    int64  \n",
            " 22  Fantasy        999 non-null    int64  \n",
            " 23  Film-Noir      999 non-null    int64  \n",
            " 24  History        999 non-null    int64  \n",
            " 25  Horror         999 non-null    int64  \n",
            " 26  Music          999 non-null    int64  \n",
            " 27  Musical        999 non-null    int64  \n",
            " 28  Mystery        999 non-null    int64  \n",
            " 29  Romance        999 non-null    int64  \n",
            " 30  Sci-Fi         999 non-null    int64  \n",
            " 31  Sport          999 non-null    int64  \n",
            " 32  Thriller       999 non-null    int64  \n",
            " 33  War            999 non-null    int64  \n",
            " 34  Western        999 non-null    int64  \n",
            " 35  Cert_16        999 non-null    bool   \n",
            " 36  Cert_A         999 non-null    bool   \n",
            " 37  Cert_Approved  999 non-null    bool   \n",
            " 38  Cert_G         999 non-null    bool   \n",
            " 39  Cert_GP        999 non-null    bool   \n",
            " 40  Cert_PG        999 non-null    bool   \n",
            " 41  Cert_PG-13     999 non-null    bool   \n",
            " 42  Cert_Passed    999 non-null    bool   \n",
            " 43  Cert_R         999 non-null    bool   \n",
            " 44  Cert_TV-14     999 non-null    bool   \n",
            " 45  Cert_TV-MA     999 non-null    bool   \n",
            " 46  Cert_TV-PG     999 non-null    bool   \n",
            " 47  Cert_U         999 non-null    bool   \n",
            " 48  Cert_U/A       999 non-null    bool   \n",
            " 49  Cert_UA        999 non-null    bool   \n",
            " 50  Cert_Unrated   999 non-null    bool   \n",
            "dtypes: bool(16), float64(4), int64(24), object(7)\n",
            "memory usage: 288.9+ KB\n"
          ]
        },
        {
          "output_type": "stream",
          "name": "stderr",
          "text": [
            "/tmp/ipython-input-3204374444.py:7: FutureWarning: A value is trying to be set on a copy of a DataFrame or Series through chained assignment using an inplace method.\n",
            "The behavior will change in pandas 3.0. This inplace method will never work because the intermediate object on which we are setting values always behaves as a copy.\n",
            "\n",
            "For example, when doing 'df[col].method(value, inplace=True)', try using 'df.method({col: value}, inplace=True)' or df[col] = df[col].method(value) instead, to perform the operation inplace on the original object.\n",
            "\n",
            "\n",
            "  df_copy['Certificate'].fillna(df_copy['Certificate'].mode()[0], inplace=True)\n",
            "/tmp/ipython-input-3204374444.py:10: FutureWarning: A value is trying to be set on a copy of a DataFrame or Series through chained assignment using an inplace method.\n",
            "The behavior will change in pandas 3.0. This inplace method will never work because the intermediate object on which we are setting values always behaves as a copy.\n",
            "\n",
            "For example, when doing 'df[col].method(value, inplace=True)', try using 'df.method({col: value}, inplace=True)' or df[col] = df[col].method(value) instead, to perform the operation inplace on the original object.\n",
            "\n",
            "\n",
            "  df_copy['Released_Year'].fillna(df_copy['Released_Year'].mode()[0], inplace=True)\n"
          ]
        }
      ]
    },
    {
      "cell_type": "markdown",
      "source": [
        "### Correlação com o Faturamento e Meta Score\n",
        "\n",
        "Analisamos a correlação do faturamento (coluna Gross) com as outras colunas, e também a correlação do Meta Score com as outras. Para entendermos qual a melhor maneiras de preencher os valores nulos dessas colunas."
      ],
      "metadata": {
        "id": "0NtjDafAjM-h"
      }
    },
    {
      "cell_type": "code",
      "source": [
        "df_numeric = df_copy.select_dtypes(include=np.number)\n",
        "\n",
        "corr_matrix = df_numeric.corr()\n",
        "\n",
        "# Calculo da correlação com o Gross\n",
        "gross_correlations = corr_matrix['Gross'].sort_values(ascending=False)\n",
        "\n",
        "gross_correlations = gross_correlations.drop('Gross')\n",
        "print(\"Correlações das outras colunas com o faturamento:\")\n",
        "print(gross_correlations)\n",
        "print()\n",
        "\n",
        "# Calculo da correlação com o Meta Score\n",
        "Meta_score_correlations = corr_matrix['Meta_score'].sort_values(ascending=False)\n",
        "\n",
        "Meta_score_correlations = Meta_score_correlations.drop('Meta_score')\n",
        "print(\"Correlações das outras colunas com o Meta score:\")\n",
        "print(Meta_score_correlations)"
      ],
      "metadata": {
        "colab": {
          "base_uri": "https://localhost:8080/"
        },
        "id": "na94K3f5nu7i",
        "outputId": "59d8f81a-ff0a-4c37-e328-74a036c56c4d"
      },
      "execution_count": 129,
      "outputs": [
        {
          "output_type": "stream",
          "name": "stdout",
          "text": [
            "Correlações das outras colunas com o faturamento:\n",
            "No_of_Votes      0.589527\n",
            "Adventure        0.451594\n",
            "Action           0.320713\n",
            "Released_Year    0.234115\n",
            "Sci-Fi           0.205171\n",
            "Animation        0.161705\n",
            "Runtime          0.140002\n",
            "IMDB_Rating      0.099393\n",
            "Fantasy          0.099352\n",
            "Family           0.056102\n",
            "Western         -0.018606\n",
            "Comedy          -0.019715\n",
            "Sport           -0.020099\n",
            "History         -0.026716\n",
            "Meta_score      -0.030480\n",
            "Thriller        -0.033501\n",
            "Horror          -0.042222\n",
            "Biography       -0.042270\n",
            "Musical         -0.057152\n",
            "War             -0.059058\n",
            "Music           -0.065199\n",
            "Film-Noir       -0.066753\n",
            "Unnamed: 0      -0.068809\n",
            "Mystery         -0.081972\n",
            "Romance         -0.097186\n",
            "Crime           -0.127196\n",
            "Drama           -0.319840\n",
            "Name: Gross, dtype: float64\n",
            "\n",
            "Correlações das outras colunas com o Meta score:\n",
            "IMDB_Rating      0.271374\n",
            "Film-Noir        0.146495\n",
            "Romance          0.100393\n",
            "Animation        0.078940\n",
            "Western          0.064669\n",
            "Horror           0.052746\n",
            "War              0.044539\n",
            "History          0.025033\n",
            "Mystery          0.020772\n",
            "Drama            0.008577\n",
            "Adventure        0.001535\n",
            "Comedy          -0.000506\n",
            "Musical         -0.000510\n",
            "Family          -0.001809\n",
            "Music           -0.016368\n",
            "No_of_Votes     -0.020091\n",
            "Gross           -0.030480\n",
            "Sci-Fi          -0.031263\n",
            "Runtime         -0.031604\n",
            "Thriller        -0.034378\n",
            "Fantasy         -0.035698\n",
            "Biography       -0.048094\n",
            "Sport           -0.063095\n",
            "Crime           -0.103451\n",
            "Action          -0.161831\n",
            "Unnamed: 0      -0.262064\n",
            "Released_Year   -0.339185\n",
            "Name: Meta_score, dtype: float64\n"
          ]
        }
      ]
    },
    {
      "cell_type": "markdown",
      "source": [
        "Percebemos que para o Faturamento a coluna que mais se correlaciona com ele é o Número de Votos (No_of_Votes), faz sentido pois filmes que geram mais engajamento são filmes blockbusters mais populares que tem alta bilheteria. Assim entendemos que o Número de Votos pode ser um bom previsor do faturamento.\n",
        "\n",
        "E, percebemos que para o Meta Score não existe uma coluna que se tem uma correlação tão forte como o Faturamento e o Número de Votos, as duas maiores correlações são a Nota do IMDB de maneira positiva e de maneira negativa o Ano de Lançamento. De certa forma a correlação entre a nota do IMDB e o Meta Score é esperado, pois imaginamos que filmes com uma nota alta dos críticos também tenha uma nota alta para o público. Também podemos inferir que os filmes mais antigos tem uma maior nota da crítica, isso ocorre por conta de um fenômeno chamado viés da sobrevivência que explica que para um filme que foi lançado há muito tempo atrás estar em uma lista de melhores filmes de todos os tempos ele deve ser uma obra prima atemporal. Pois todos os filmes somente bons dessa época foram esquecidos com o tempo, e somente a elite \"sobreviveu\"."
      ],
      "metadata": {
        "id": "0Ppoo649kMQx"
      }
    },
    {
      "cell_type": "markdown",
      "source": [
        "### Preenchendo os dados nulos\n",
        "\n",
        "Como analisamos anteriormente, o Número de Votos tem uma forte correlação com o Faturamento. Dessa maneira, para preenchermos os dados nulos do Faturamento utilizaremos Machine Learning para treinar um modelo de Regressão Linear que recebe de entrada como os dados de teste a coluna de Número de Votos na qual o Faturamento não é nulo. E depois de treinarmos ele, utilizamos esse modelo para prever os dados de faturamento nulo usando de argumento de entrada o Número de Votos nas linhas nas quais o Faturamento é nulo."
      ],
      "metadata": {
        "id": "-sZ4qXdWsnGb"
      }
    },
    {
      "cell_type": "code",
      "source": [
        "df_test = df_copy.copy()\n",
        "\n",
        "# Seleção dos dados de treinamento\n",
        "train_data_Gross = df_test.dropna(subset=['Gross'])\n",
        "\n",
        "X_train_impute_Gross = train_data_Gross[['No_of_Votes']]\n",
        "y_train_impute_Gross = train_data_Gross['Gross']\n",
        "\n",
        "# Treinamento do modelo\n",
        "imputation_model_gross = LinearRegression()\n",
        "imputation_model_gross.fit(X_train_impute_Gross, y_train_impute_Gross)\n",
        "\n",
        "\n",
        "# Seleção dos dados que necessitam de previsão\n",
        "data_to_predict_Gross = df_test[df_test['Gross'].isnull()]\n",
        "X_to_predict_Gross = data_to_predict_Gross[['No_of_Votes']]\n",
        "\n",
        "# Utilização do modelo\n",
        "predicted_gross = imputation_model_gross.predict(X_to_predict_Gross)\n",
        "\n",
        "# Preenchemos os valores nulos no dataframe com as previsões\n",
        "df_test.loc[df_test['Gross'].isnull(), 'Gross'] = predicted_gross\n",
        "\n",
        "print(\"Nulos por coluna depois da previsão:\")\n",
        "print(df_test.isnull().sum())"
      ],
      "metadata": {
        "colab": {
          "base_uri": "https://localhost:8080/"
        },
        "id": "0ysU8S_-sO1c",
        "outputId": "7bf83c79-dfd7-4fbf-a307-2bd2732ac281"
      },
      "execution_count": 130,
      "outputs": [
        {
          "output_type": "stream",
          "name": "stdout",
          "text": [
            "Nulos por coluna depois da previsão:\n",
            "Unnamed: 0         0\n",
            "Series_Title       0\n",
            "Released_Year      0\n",
            "Runtime            0\n",
            "IMDB_Rating        0\n",
            "Overview           0\n",
            "Meta_score       157\n",
            "Director           0\n",
            "Star1              0\n",
            "Star2              0\n",
            "Star3              0\n",
            "Star4              0\n",
            "No_of_Votes        0\n",
            "Gross              0\n",
            "Action             0\n",
            "Adventure          0\n",
            "Animation          0\n",
            "Biography          0\n",
            "Comedy             0\n",
            "Crime              0\n",
            "Drama              0\n",
            "Family             0\n",
            "Fantasy            0\n",
            "Film-Noir          0\n",
            "History            0\n",
            "Horror             0\n",
            "Music              0\n",
            "Musical            0\n",
            "Mystery            0\n",
            "Romance            0\n",
            "Sci-Fi             0\n",
            "Sport              0\n",
            "Thriller           0\n",
            "War                0\n",
            "Western            0\n",
            "Cert_16            0\n",
            "Cert_A             0\n",
            "Cert_Approved      0\n",
            "Cert_G             0\n",
            "Cert_GP            0\n",
            "Cert_PG            0\n",
            "Cert_PG-13         0\n",
            "Cert_Passed        0\n",
            "Cert_R             0\n",
            "Cert_TV-14         0\n",
            "Cert_TV-MA         0\n",
            "Cert_TV-PG         0\n",
            "Cert_U             0\n",
            "Cert_U/A           0\n",
            "Cert_UA            0\n",
            "Cert_Unrated       0\n",
            "dtype: int64\n"
          ]
        }
      ]
    },
    {
      "cell_type": "markdown",
      "source": [
        "Agora fazemos o mesmo para o Meta Score. Treinamos o modelo de Regressão Linear com os argumentos de entrada as colunas de Ano de Lançamento e Nota do IMDB nas quais o Meta Score não é nulo. E após treinarmos utilizamos o modelo para prever os valores nulos do Meta Score e preenchemos eles."
      ],
      "metadata": {
        "id": "jJxAN43_uyIJ"
      }
    },
    {
      "cell_type": "code",
      "source": [
        "# Seleção dos dados de treinamento\n",
        "train_data_MS = df_copy.dropna(subset=['Meta_score', 'Released_Year', 'IMDB_Rating'])\n",
        "\n",
        "X_train_impute_MS = train_data_MS[['Released_Year', 'IMDB_Rating']]\n",
        "y_train_impute_MS = train_data_MS['Meta_score']\n",
        "\n",
        "# Treinamento do modelo\n",
        "imputation_model_MS = LinearRegression()\n",
        "imputation_model_MS.fit(X_train_impute_MS, y_train_impute_MS)\n",
        "\n",
        "# Seleção dos dados que necessitam de previsão\n",
        "data_to_predict_MS = df_test[df_test['Meta_score'].isnull()]\n",
        "X_to_predict_MS = data_to_predict_MS[['Released_Year', 'IMDB_Rating']]\n",
        "\n",
        "# Utilização do modelo\n",
        "predicted_metascore = imputation_model_MS.predict(X_to_predict_MS)\n",
        "\n",
        "\n",
        "# Preenchemos os valores nulos no dataframe com as previsões\n",
        "df_test.loc[X_to_predict_MS.index, 'Meta_score'] = predicted_metascore\n",
        "\n",
        "print(\"Nulos por coluna depois da previsão:\")\n",
        "print(df_test.isnull().sum())"
      ],
      "metadata": {
        "colab": {
          "base_uri": "https://localhost:8080/"
        },
        "id": "feP0hhVVASth",
        "outputId": "f5f71159-1762-4c3d-8a30-c808fe51675e"
      },
      "execution_count": 131,
      "outputs": [
        {
          "output_type": "stream",
          "name": "stdout",
          "text": [
            "Nulos por coluna depois da previsão:\n",
            "Unnamed: 0       0\n",
            "Series_Title     0\n",
            "Released_Year    0\n",
            "Runtime          0\n",
            "IMDB_Rating      0\n",
            "Overview         0\n",
            "Meta_score       0\n",
            "Director         0\n",
            "Star1            0\n",
            "Star2            0\n",
            "Star3            0\n",
            "Star4            0\n",
            "No_of_Votes      0\n",
            "Gross            0\n",
            "Action           0\n",
            "Adventure        0\n",
            "Animation        0\n",
            "Biography        0\n",
            "Comedy           0\n",
            "Crime            0\n",
            "Drama            0\n",
            "Family           0\n",
            "Fantasy          0\n",
            "Film-Noir        0\n",
            "History          0\n",
            "Horror           0\n",
            "Music            0\n",
            "Musical          0\n",
            "Mystery          0\n",
            "Romance          0\n",
            "Sci-Fi           0\n",
            "Sport            0\n",
            "Thriller         0\n",
            "War              0\n",
            "Western          0\n",
            "Cert_16          0\n",
            "Cert_A           0\n",
            "Cert_Approved    0\n",
            "Cert_G           0\n",
            "Cert_GP          0\n",
            "Cert_PG          0\n",
            "Cert_PG-13       0\n",
            "Cert_Passed      0\n",
            "Cert_R           0\n",
            "Cert_TV-14       0\n",
            "Cert_TV-MA       0\n",
            "Cert_TV-PG       0\n",
            "Cert_U           0\n",
            "Cert_U/A         0\n",
            "Cert_UA          0\n",
            "Cert_Unrated     0\n",
            "dtype: int64\n"
          ]
        }
      ]
    },
    {
      "cell_type": "markdown",
      "source": [
        "### Tratando as colunas Diretor e Estrelas 1 a 4\n",
        "\n",
        "A ideia para tratar as colunas de Diretor e Estrelas, era realizar um one hot coding nelas e analisar a correlação de cada diretor e cada estrela com a nota IMDB para escolhermos somente as estrelas e os diretores que tenham uma alta correlação com a Nota IMDB do filme.\n",
        "\n",
        "Porém após analisarmos os resultados, percebemos que praticamente eles nao têm uma influência grande na Nota IMDB com a maior de cada coluna sendo entre 0.13 e 0.19. Dessa maneira optamos por deixar somente o diretor e as estrelas com a maior correlação por coluna e removemos o resto do dataframe. Assim deixamos o Diretor com a maior correlação, a Estrela 1 com a maior correlação e assim em diante."
      ],
      "metadata": {
        "id": "GHDyuFuayi_o"
      }
    },
    {
      "cell_type": "code",
      "source": [
        "colunas = ['Director', 'Star1', 'Star2', 'Star3', 'Star4']\n",
        "\n",
        "# Análise de quantidade de valores em cada coluna\n",
        "print(\"Quantidade de Diretores:\")\n",
        "print(df['Director'].nunique())\n",
        "print(\"Quantidade de Atores em Star1:\")\n",
        "print(df['Star1'].nunique())\n",
        "print(\"Quantidade de Atores em Star2:\")\n",
        "print(df['Star2'].nunique())\n",
        "print(\"Quantidade de Atores em Star3:\")\n",
        "print(df['Star3'].nunique())\n",
        "print(\"Quantidade de Atores em Star4:\")\n",
        "print(df['Star4'].nunique())\n",
        "\n",
        "colunas_mais_influentes = []\n",
        "\n",
        "# Para cada coluna calculamos a correlação com a nota imdb\n",
        "for coluna in colunas:\n",
        "    print(f\"\\nCorrelação para: {coluna}\")\n",
        "\n",
        "    dummies = pd.get_dummies(df_copy[coluna], prefix=coluna)\n",
        "\n",
        "    df_corr = pd.concat([dummies, df_copy['IMDB_Rating']], axis=1)\n",
        "\n",
        "    correlations = df_corr.corr()['IMDB_Rating'].sort_values(ascending=False)\n",
        "\n",
        "    correlations = correlations.drop('IMDB_Rating')\n",
        "\n",
        "    print(\"\\n10 maiores correlações positivas:\")\n",
        "    print(correlations.head(10))\n",
        "\n",
        "    print(\"\\n10 maiores correlações negativas:\")\n",
        "    print(correlations.tail(10))\n",
        "\n",
        "    # Retiramos as 5 colunas com as maiores correlações em módulo\n",
        "    top_5_features = correlations.abs().nlargest(5).index.tolist()\n",
        "    colunas_mais_influentes.extend(top_5_features)"
      ],
      "metadata": {
        "colab": {
          "base_uri": "https://localhost:8080/"
        },
        "id": "n1IvrrKRJwOy",
        "outputId": "9d80e16f-382d-4a87-cb93-28c64cf76a52"
      },
      "execution_count": 132,
      "outputs": [
        {
          "output_type": "stream",
          "name": "stdout",
          "text": [
            "Quantidade de Diretores:\n",
            "548\n",
            "Quantidade de Atores em Star1:\n",
            "659\n",
            "Quantidade de Atores em Star2:\n",
            "840\n",
            "Quantidade de Atores em Star3:\n",
            "890\n",
            "Quantidade de Atores em Star4:\n",
            "938\n",
            "\n",
            "Correlação para: Director\n",
            "\n",
            "10 maiores correlações positivas:\n",
            "Director_Christopher Nolan       0.169873\n",
            "Director_Peter Jackson           0.117806\n",
            "Director_Francis Ford Coppola    0.117806\n",
            "Director_Charles Chaplin         0.110074\n",
            "Director_Akira Kurosawa          0.100517\n",
            "Director_Stanley Kubrick         0.099982\n",
            "Director_Sergio Leone            0.091032\n",
            "Director_Milos Forman            0.090852\n",
            "Director_Lana Wachowski          0.087472\n",
            "Director_Irvin Kershner          0.087472\n",
            "Name: IMDB_Rating, dtype: float64\n",
            "\n",
            "10 maiores correlações negativas:\n",
            "Director_Shane Meadows         -0.049034\n",
            "Director_Brian G. Hutton       -0.049034\n",
            "Director_Jean-Jacques Annaud   -0.049034\n",
            "Director_Spike Lee             -0.051941\n",
            "Director_Woody Allen           -0.055725\n",
            "Director_Alfonso Cuarón        -0.056538\n",
            "Director_Don Siegel            -0.056723\n",
            "Director_Chris Columbus        -0.057262\n",
            "Director_Zack Snyder           -0.057262\n",
            "Director_Matthew Vaughn        -0.069414\n",
            "Name: IMDB_Rating, dtype: float64\n",
            "\n",
            "Correlação para: Star1\n",
            "\n",
            "10 maiores correlações positivas:\n",
            "Star1_Elijah Wood        0.171824\n",
            "Star1_Mark Hamill        0.118048\n",
            "Star1_Marlon Brando      0.115538\n",
            "Star1_Henry Fonda        0.111326\n",
            "Star1_John Travolta      0.110734\n",
            "Star1_Charles Chaplin    0.110074\n",
            "Star1_Toshirô Mifune     0.091027\n",
            "Star1_Lilly Wachowski    0.087472\n",
            "Star1_Aamir Khan         0.082208\n",
            "Star1_Kevin Spacey       0.077716\n",
            "Name: IMDB_Rating, dtype: float64\n",
            "\n",
            "10 maiores correlações negativas:\n",
            "Star1_Jesse Eisenberg     -0.049034\n",
            "Star1_Tatsuya Fujiwara    -0.049034\n",
            "Star1_Paddy Considine     -0.049034\n",
            "Star1_Nicolas Cage        -0.049034\n",
            "Star1_Daniel Radcliffe    -0.051777\n",
            "Star1_Tom Cruise          -0.051777\n",
            "Star1_Gene Hackman        -0.051941\n",
            "Star1_Michael B. Jordan   -0.057262\n",
            "Star1_Johnny Depp         -0.069477\n",
            "Star1_Denzel Washington   -0.076532\n",
            "Name: IMDB_Rating, dtype: float64\n",
            "\n",
            "Correlação para: Star2\n",
            "\n",
            "10 maiores correlações positivas:\n",
            "Star2_Robert De Niro     0.124770\n",
            "Star2_Lee J. Cobb        0.122365\n",
            "Star2_Harrison Ford      0.118048\n",
            "Star2_Ralph Fiennes      0.110734\n",
            "Star2_Madhavan           0.104604\n",
            "Star2_Edward Norton      0.099103\n",
            "Star2_Eli Wallach        0.099103\n",
            "Star2_Ray Liotta         0.087472\n",
            "Star2_Louise Fletcher    0.087472\n",
            "Star2_Keanu Reeves       0.087472\n",
            "Name: IMDB_Rating, dtype: float64\n",
            "\n",
            "10 maiores correlações negativas:\n",
            "Star2_Steve Carell       -0.043279\n",
            "Star2_Meryl Streep       -0.046116\n",
            "Star2_Bradley Cooper     -0.049034\n",
            "Star2_Sandra Bullock     -0.049034\n",
            "Star2_Penélope Cruz      -0.049034\n",
            "Star2_Ethan Hawke        -0.049034\n",
            "Star2_Josh Brolin        -0.050001\n",
            "Star2_Samantha Morton    -0.056723\n",
            "Star2_Frederick Lau      -0.057262\n",
            "Star2_Benicio Del Toro   -0.057262\n",
            "Name: IMDB_Rating, dtype: float64\n",
            "\n",
            "Correlação para: Star3\n",
            "\n",
            "10 maiores correlações positivas:\n",
            "Star3_James Caan          0.145628\n",
            "Star3_Robert Duvall       0.123766\n",
            "Star3_Aaron Eckhart       0.122365\n",
            "Star3_Ian McKellen        0.110734\n",
            "Star3_Ben Kingsley        0.110734\n",
            "Star3_Gary Sinise         0.099103\n",
            "Star3_Meat Loaf           0.099103\n",
            "Star3_Elliot Page         0.099103\n",
            "Star3_Lee Van Cleef       0.099103\n",
            "Star3_Michael Berryman    0.087472\n",
            "Name: IMDB_Rating, dtype: float64\n",
            "\n",
            "10 maiores correlações negativas:\n",
            "Star3_Dakota Fanning           -0.040805\n",
            "Star3_Charles Bronson          -0.040805\n",
            "Star3_Kevin Bacon              -0.043279\n",
            "Star3_Tim Robbins              -0.049034\n",
            "Star3_Michelle Williams        -0.049034\n",
            "Star3_Philip Seymour Hoffman   -0.049034\n",
            "Star3_Anna Kendrick            -0.057262\n",
            "Star3_Woody Harrelson          -0.057262\n",
            "Star3_Jeff Bridges             -0.057262\n",
            "Star3_Jodie Foster             -0.057262\n",
            "Name: IMDB_Rating, dtype: float64\n",
            "\n",
            "Correlação para: Star4\n",
            "\n",
            "10 maiores correlações positivas:\n",
            "Star4_Diane Keaton        0.189595\n",
            "Star4_Orlando Bloom       0.140223\n",
            "Star4_John Fiedler        0.122365\n",
            "Star4_Bruce Willis        0.110734\n",
            "Star4_Caroline Goodall    0.110734\n",
            "Star4_Sean Bean           0.099103\n",
            "Star4_Sally Field         0.099103\n",
            "Star4_Ken Watanabe        0.099103\n",
            "Star4_Zach Grenier        0.099103\n",
            "Star4_Aldo Giuffrè        0.099103\n",
            "Name: IMDB_Rating, dtype: float64\n",
            "\n",
            "10 maiores correlações negativas:\n",
            "Star4_Chase Ellison      -0.040470\n",
            "Star4_Jason Patric       -0.040470\n",
            "Star4_Lucy Liu           -0.040805\n",
            "Star4_Alan Arkin         -0.040805\n",
            "Star4_Kevin Bacon        -0.040805\n",
            "Star4_Anthony Edwards    -0.040805\n",
            "Star4_Laura Dern         -0.040805\n",
            "Star4_Bruno Kirby        -0.049034\n",
            "Star4_Radha Mitchell     -0.049034\n",
            "Star4_Catherine Keener   -0.050001\n",
            "Name: IMDB_Rating, dtype: float64\n"
          ]
        }
      ]
    },
    {
      "cell_type": "markdown",
      "source": [
        "Adicionamos as colunas que verificamos no passo anterior serem as com as maiores correlações com o IMDB e retiramos as colunas de Diretor, as de Estrelas, a de Título e a de Sinopse. Também retiramos essa coluna chamada Unnamed: 0 que é somente a coluna dos indices do csv."
      ],
      "metadata": {
        "id": "kN7gmmYq9htn"
      }
    },
    {
      "cell_type": "code",
      "source": [
        "for coluna in colunas_mais_influentes:\n",
        "    # Obter o nome original da coluna e o o valor dela\n",
        "    coluna_original, valor = coluna.split('_', 1)\n",
        "    # Verificação para preencher corretamente se o diretor ou a estrela estiverem no filme\n",
        "    df_test[coluna] = (df_test[coluna_original] == valor).astype(int)\n",
        "\n",
        "df_test.drop(columns = ['Director', 'Star1', 'Star2', 'Star3', 'Star4', 'Series_Title', 'Overview', 'Unnamed: 0'], inplace=True)\n",
        "df_test.info()"
      ],
      "metadata": {
        "colab": {
          "base_uri": "https://localhost:8080/"
        },
        "id": "-JGVjLzx9EsR",
        "outputId": "ce507917-9682-48b6-f1cc-da1cc7c44843"
      },
      "execution_count": 133,
      "outputs": [
        {
          "output_type": "stream",
          "name": "stdout",
          "text": [
            "<class 'pandas.core.frame.DataFrame'>\n",
            "RangeIndex: 999 entries, 0 to 998\n",
            "Data columns (total 68 columns):\n",
            " #   Column                         Non-Null Count  Dtype  \n",
            "---  ------                         --------------  -----  \n",
            " 0   Released_Year                  999 non-null    float64\n",
            " 1   Runtime                        999 non-null    int64  \n",
            " 2   IMDB_Rating                    999 non-null    float64\n",
            " 3   Meta_score                     999 non-null    float64\n",
            " 4   No_of_Votes                    999 non-null    int64  \n",
            " 5   Gross                          999 non-null    float64\n",
            " 6   Action                         999 non-null    int64  \n",
            " 7   Adventure                      999 non-null    int64  \n",
            " 8   Animation                      999 non-null    int64  \n",
            " 9   Biography                      999 non-null    int64  \n",
            " 10  Comedy                         999 non-null    int64  \n",
            " 11  Crime                          999 non-null    int64  \n",
            " 12  Drama                          999 non-null    int64  \n",
            " 13  Family                         999 non-null    int64  \n",
            " 14  Fantasy                        999 non-null    int64  \n",
            " 15  Film-Noir                      999 non-null    int64  \n",
            " 16  History                        999 non-null    int64  \n",
            " 17  Horror                         999 non-null    int64  \n",
            " 18  Music                          999 non-null    int64  \n",
            " 19  Musical                        999 non-null    int64  \n",
            " 20  Mystery                        999 non-null    int64  \n",
            " 21  Romance                        999 non-null    int64  \n",
            " 22  Sci-Fi                         999 non-null    int64  \n",
            " 23  Sport                          999 non-null    int64  \n",
            " 24  Thriller                       999 non-null    int64  \n",
            " 25  War                            999 non-null    int64  \n",
            " 26  Western                        999 non-null    int64  \n",
            " 27  Cert_16                        999 non-null    bool   \n",
            " 28  Cert_A                         999 non-null    bool   \n",
            " 29  Cert_Approved                  999 non-null    bool   \n",
            " 30  Cert_G                         999 non-null    bool   \n",
            " 31  Cert_GP                        999 non-null    bool   \n",
            " 32  Cert_PG                        999 non-null    bool   \n",
            " 33  Cert_PG-13                     999 non-null    bool   \n",
            " 34  Cert_Passed                    999 non-null    bool   \n",
            " 35  Cert_R                         999 non-null    bool   \n",
            " 36  Cert_TV-14                     999 non-null    bool   \n",
            " 37  Cert_TV-MA                     999 non-null    bool   \n",
            " 38  Cert_TV-PG                     999 non-null    bool   \n",
            " 39  Cert_U                         999 non-null    bool   \n",
            " 40  Cert_U/A                       999 non-null    bool   \n",
            " 41  Cert_UA                        999 non-null    bool   \n",
            " 42  Cert_Unrated                   999 non-null    bool   \n",
            " 43  Director_Christopher Nolan     999 non-null    int64  \n",
            " 44  Director_Peter Jackson         999 non-null    int64  \n",
            " 45  Director_Francis Ford Coppola  999 non-null    int64  \n",
            " 46  Director_Charles Chaplin       999 non-null    int64  \n",
            " 47  Director_Akira Kurosawa        999 non-null    int64  \n",
            " 48  Star1_Elijah Wood              999 non-null    int64  \n",
            " 49  Star1_Mark Hamill              999 non-null    int64  \n",
            " 50  Star1_Marlon Brando            999 non-null    int64  \n",
            " 51  Star1_Henry Fonda              999 non-null    int64  \n",
            " 52  Star1_John Travolta            999 non-null    int64  \n",
            " 53  Star2_Robert De Niro           999 non-null    int64  \n",
            " 54  Star2_Lee J. Cobb              999 non-null    int64  \n",
            " 55  Star2_Harrison Ford            999 non-null    int64  \n",
            " 56  Star2_Ralph Fiennes            999 non-null    int64  \n",
            " 57  Star2_Madhavan                 999 non-null    int64  \n",
            " 58  Star3_James Caan               999 non-null    int64  \n",
            " 59  Star3_Robert Duvall            999 non-null    int64  \n",
            " 60  Star3_Aaron Eckhart            999 non-null    int64  \n",
            " 61  Star3_Ian McKellen             999 non-null    int64  \n",
            " 62  Star3_Ben Kingsley             999 non-null    int64  \n",
            " 63  Star4_Diane Keaton             999 non-null    int64  \n",
            " 64  Star4_Orlando Bloom            999 non-null    int64  \n",
            " 65  Star4_John Fiedler             999 non-null    int64  \n",
            " 66  Star4_Bruce Willis             999 non-null    int64  \n",
            " 67  Star4_Caroline Goodall         999 non-null    int64  \n",
            "dtypes: bool(16), float64(4), int64(48)\n",
            "memory usage: 421.6 KB\n"
          ]
        }
      ]
    },
    {
      "cell_type": "markdown",
      "source": [
        "### Normalização e análise de correlação com o IMDB\n",
        "\n",
        "Primeiramente analisamos a correlação de cada uma das nossas colunas com a Nota IMDB para entendermos se podemos retirar algumas colunas que não tem tanta influência na nota. Para isso pensamos em testar 3 escalas e comparar o resultado do modelo para cada uma dessas escalas.\n",
        "\n",
        "- Primeira escala: retirar as colunas com correlação menores em módulo que 0.01\n",
        "- Segunda escala: retirar as colunas com correlação menores em módulo que 0.05\n",
        "- Terceira escala: retirar as colunas com correlação menores em módulo que 0.1\n",
        "\n",
        "Outra coisa que podemos perceber ao analisar essas correlações é que a maior correlação com a nota IMDB é o número de votos, seguido pela nota da crítica seguido pela duração do filme. Isso nos mostra que quanto maior o engajamento que o filme esta recebendo de votos maior a sua nota. Podemos também dizer que filmes de alta qualidade são aclamados tanto pelos críticos quanto pelo público.\n",
        "E também que filmes de maior duração tendem a ter notas maiores, assim indicando que histórias mais complexas que exigem maior tempo de tela tendem a ser mais bem avaliadas.\n",
        "\n",
        "Analisando pelo lado negativo, podemos voltar a citar o viés de sobreviência dos filmes, por conta do ano de lançamento ser o fator que mais influência negativamente a nota desse filme. Podemos citar que as classificações indicativas R e PG-13 afetam a nota imdb do filme negativamente também, assim filmes com essas classificações tendem a não ter uma nota mais alta."
      ],
      "metadata": {
        "id": "vQUMe0Od_08l"
      }
    },
    {
      "cell_type": "code",
      "source": [
        "corr_matrix_imdb = df_test.corr()\n",
        "imdb_correlations = corr_matrix_imdb['IMDB_Rating'].sort_values(ascending=False)\n",
        "\n",
        "imdb_correlations = imdb_correlations.drop('IMDB_Rating')\n",
        "\n",
        "print(\"Correlações com a Nota IMDB:\")\n",
        "print(imdb_correlations)\n",
        "\n",
        "# Retirando as colunas com baixa correlação de acordo com a escala\n",
        "colunas_ruins_escala1 = imdb_correlations[(imdb_correlations > -0.01) & (imdb_correlations < 0.01)].index.tolist()\n",
        "colunas_ruins_escala2 = imdb_correlations[(imdb_correlations > -0.05) & (imdb_correlations < 0.05)].index.tolist()\n",
        "colunas_ruins_escala3 = imdb_correlations[(imdb_correlations > -0.1) & (imdb_correlations < 0.1)].index.tolist()\n",
        "df_normalizado1 = df_test.drop(columns = colunas_ruins_escala1)\n",
        "df_normalizado2 = df_test.drop(columns = colunas_ruins_escala2)\n",
        "df_normalizado3 = df_test.drop(columns = colunas_ruins_escala3)\n",
        "print(\"\\n\")\n",
        "print(\"Colunas retiradas na primeira escala:\")\n",
        "print(colunas_ruins_escala1)\n",
        "print(\"Colunas retiradas na segunda escala:\")\n",
        "print(colunas_ruins_escala2)\n",
        "print(\"Colunas retiradas na terceira escala:\")\n",
        "print(colunas_ruins_escala3)\n",
        "\n",
        "# Normalizar as colunas necessárias\n",
        "colunas_para_normalizar_1 = df_normalizado1.select_dtypes(include=np.number).columns.tolist()\n",
        "colunas_para_normalizar_2 = df_normalizado2.select_dtypes(include=np.number).columns.tolist()\n",
        "colunas_para_normalizar_3 = df_normalizado3.select_dtypes(include=np.number).columns.tolist()\n",
        "\n",
        "colunas_para_normalizar_1.remove('IMDB_Rating')\n",
        "colunas_para_normalizar_2.remove('IMDB_Rating')\n",
        "colunas_para_normalizar_3.remove('IMDB_Rating')\n",
        "\n",
        "scaler_1 = MinMaxScaler()\n",
        "scaler_2 = MinMaxScaler()\n",
        "scaler_3 = MinMaxScaler()\n",
        "\n",
        "df_normalizado1[colunas_para_normalizar_1] = scaler_1.fit_transform(df_normalizado1[colunas_para_normalizar_1])\n",
        "df_normalizado2[colunas_para_normalizar_2] = scaler_2.fit_transform(df_normalizado2[colunas_para_normalizar_2])\n",
        "df_normalizado3[colunas_para_normalizar_3] = scaler_3.fit_transform(df_normalizado3[colunas_para_normalizar_3])"
      ],
      "metadata": {
        "colab": {
          "base_uri": "https://localhost:8080/"
        },
        "id": "6We4-F4Lj6nq",
        "outputId": "411cc529-18ed-4f3f-d41e-618368cf77b3"
      },
      "execution_count": 134,
      "outputs": [
        {
          "output_type": "stream",
          "name": "stdout",
          "text": [
            "Correlações com a Nota IMDB:\n",
            "No_of_Votes           0.479308\n",
            "Meta_score            0.283265\n",
            "Runtime               0.242751\n",
            "Star4_Diane Keaton    0.189595\n",
            "Star1_Elijah Wood     0.171824\n",
            "                        ...   \n",
            "Thriller             -0.056337\n",
            "Comedy               -0.090209\n",
            "Cert_PG-13           -0.117105\n",
            "Cert_R               -0.118701\n",
            "Released_Year        -0.134336\n",
            "Name: IMDB_Rating, Length: 67, dtype: float64\n",
            "\n",
            "\n",
            "Colunas retiradas na primeira escala:\n",
            "['Adventure', 'History', 'Action', 'Musical', 'Cert_Approved', 'Cert_TV-PG']\n",
            "Colunas retiradas na segunda escala:\n",
            "['Cert_TV-14', 'Cert_U', 'Sci-Fi', 'Western', 'Mystery', 'Film-Noir', 'Cert_G', 'Cert_16', 'Cert_TV-MA', 'Cert_Unrated', 'Cert_UA', 'Crime', 'Adventure', 'History', 'Action', 'Musical', 'Cert_Approved', 'Cert_TV-PG', 'Sport', 'Cert_PG', 'Biography', 'Fantasy', 'Cert_GP', 'Animation', 'Music', 'Romance', 'Family', 'Horror', 'Cert_U/A']\n",
            "Colunas retiradas na terceira escala:\n",
            "['Gross', 'Cert_A', 'Drama', 'War', 'Cert_Passed', 'Cert_TV-14', 'Cert_U', 'Sci-Fi', 'Western', 'Mystery', 'Film-Noir', 'Cert_G', 'Cert_16', 'Cert_TV-MA', 'Cert_Unrated', 'Cert_UA', 'Crime', 'Adventure', 'History', 'Action', 'Musical', 'Cert_Approved', 'Cert_TV-PG', 'Sport', 'Cert_PG', 'Biography', 'Fantasy', 'Cert_GP', 'Animation', 'Music', 'Romance', 'Family', 'Horror', 'Cert_U/A', 'Thriller', 'Comedy']\n"
          ]
        }
      ]
    },
    {
      "cell_type": "markdown",
      "source": [
        "### Treinando os Modelos\n",
        "\n",
        "Agora que temos nosso dataframe normalizado e com os dados todos tratados, vamos treinar os modelos utilizando a regressao por meio do algorítmo de Random Forest que como a nota IMDB de um filme é um fenômeno complexo ele se sai melhor que a regressão linear nesses casos. E também por conta que ele faz um bom papel em captar a interação entre features.\n",
        "\n",
        "Assim treinamos 3 modelos, um para cada dataframe que temos."
      ],
      "metadata": {
        "id": "G4A8XmDtDjyr"
      }
    },
    {
      "cell_type": "code",
      "source": [
        "X_1 = df_normalizado1.drop(columns=['IMDB_Rating'])\n",
        "y_1 = df_normalizado1['IMDB_Rating']\n",
        "final_feature_columns_1 = X_1.columns.tolist()\n",
        "\n",
        "# Divisão em dados de treino e dados de teste\n",
        "X_train_1, X_test_1, y_train_1, y_test_1 = train_test_split(X_1, y_1, test_size=0.2, random_state=42)\n",
        "\n",
        "# Treinamento do modelo\n",
        "model_1 = RandomForestRegressor(n_estimators=100, random_state=42, n_jobs=-1)\n",
        "model_1.fit(X_train_1, y_train_1)\n",
        "\n",
        "# Utilização do modelo\n",
        "y_pred_1 = model_1.predict(X_test_1)\n",
        "\n",
        "# Métricas de desempenho\n",
        "mae_1 = mean_absolute_error(y_test_1, y_pred_1)\n",
        "mse_1 = mean_squared_error(y_test_1, y_pred_1)\n",
        "r2_1 = r2_score(y_test_1, y_pred_1)\n",
        "\n",
        "print(\"--- Resultados da Avaliação do Modelo Final (Random Forest) ---\")\n",
        "print(f\"Mean Absolute Error (MAE): {mae_1:.4f}\")\n",
        "print(f\"Mean Squared Error (MSE): {mse_1:.4f}\")\n",
        "print(f\"R-squared (R²): {r2_1:.4f}\")"
      ],
      "metadata": {
        "colab": {
          "base_uri": "https://localhost:8080/"
        },
        "id": "GJcjlZ7HWWxT",
        "outputId": "18c3da8e-1c6e-4fbe-bde5-81001f4fcd85"
      },
      "execution_count": 135,
      "outputs": [
        {
          "output_type": "stream",
          "name": "stdout",
          "text": [
            "--- Resultados da Avaliação do Modelo Final (Random Forest) ---\n",
            "Mean Absolute Error (MAE): 0.1505\n",
            "Mean Squared Error (MSE): 0.0369\n",
            "R-squared (R²): 0.4385\n"
          ]
        }
      ]
    },
    {
      "cell_type": "markdown",
      "source": [
        "O segundo modelo"
      ],
      "metadata": {
        "id": "pMlTEnloV7wA"
      }
    },
    {
      "cell_type": "code",
      "source": [
        "X_2 = df_normalizado2.drop(columns=['IMDB_Rating'])\n",
        "y_2 = df_normalizado2['IMDB_Rating']\n",
        "final_feature_columns_2 = X_2.columns.tolist()\n",
        "\n",
        "# Divisão em dados de treino e dados de teste\n",
        "X_train_2, X_test_2, y_train_2, y_test_2 = train_test_split(X_2, y_2, test_size=0.2, random_state=42)\n",
        "\n",
        "# Treinamento do modelo\n",
        "model_2 = RandomForestRegressor(n_estimators=100, random_state=42, n_jobs=-1)\n",
        "model_2.fit(X_train_2, y_train_2)\n",
        "\n",
        "# Utilização do modelo\n",
        "y_pred_2 = model_2.predict(X_test_2)\n",
        "\n",
        "# Métricas de desempenho\n",
        "mae_2 = mean_absolute_error(y_test_2, y_pred_2)\n",
        "mse_2 = mean_squared_error(y_test_2, y_pred_2)\n",
        "r2_2 = r2_score(y_test_2, y_pred_2)\n",
        "\n",
        "print(\"--- Resultados da Avaliação do Modelo Final (Random Forest) ---\")\n",
        "print(f\"Mean Absolute Error (MAE): {mae_2:.4f}\")\n",
        "print(f\"Mean Squared Error (MSE): {mse_2:.4f}\")\n",
        "print(f\"R-squared (R²): {r2_2:.4f}\")"
      ],
      "metadata": {
        "colab": {
          "base_uri": "https://localhost:8080/"
        },
        "id": "J8m6QkhZGjie",
        "outputId": "23f083d9-3257-4535-a5c4-ad204d638571"
      },
      "execution_count": 136,
      "outputs": [
        {
          "output_type": "stream",
          "name": "stdout",
          "text": [
            "--- Resultados da Avaliação do Modelo Final (Random Forest) ---\n",
            "Mean Absolute Error (MAE): 0.1540\n",
            "Mean Squared Error (MSE): 0.0381\n",
            "R-squared (R²): 0.4191\n"
          ]
        }
      ]
    },
    {
      "cell_type": "markdown",
      "source": [
        "O terceiro modelo"
      ],
      "metadata": {
        "id": "HvF0gGbRWD8h"
      }
    },
    {
      "cell_type": "code",
      "source": [
        "X_3 = df_normalizado3.drop(columns=['IMDB_Rating'])\n",
        "y_3 = df_normalizado3['IMDB_Rating']\n",
        "final_feature_columns_3 = X_3.columns.tolist()\n",
        "\n",
        "# Divisão em dados de treino e dados de teste\n",
        "X_train_3, X_test_3, y_train_3, y_test_3 = train_test_split(X_3, y_3, test_size=0.2, random_state=42)\n",
        "\n",
        "# Treinamento do modelo\n",
        "model_3 = RandomForestRegressor(n_estimators=100, random_state=42, n_jobs=-1)\n",
        "model_3.fit(X_train_3, y_train_3)\n",
        "\n",
        "# Utilização do modelo\n",
        "y_pred_3 = model_3.predict(X_test_3)\n",
        "\n",
        "# Métricas de desempenho\n",
        "mae_3 = mean_absolute_error(y_test_3, y_pred_3)\n",
        "mse_3 = mean_squared_error(y_test_3, y_pred_3)\n",
        "r2_3 = r2_score(y_test_3, y_pred_3)\n",
        "\n",
        "print(\"Resultados Modelo 3:\")\n",
        "print(f\"Erro absoluto médio: {mae_1:.4f}\")\n",
        "print(f\"Erro quadrático médio: {mse_1:.4f}\")\n",
        "print(f\"R-quadrado: {r2_1:.4f}\")"
      ],
      "metadata": {
        "colab": {
          "base_uri": "https://localhost:8080/"
        },
        "id": "gDLQBmP2Gj8R",
        "outputId": "1a3fe7c1-b6dd-473d-cc68-a094950f8bc7"
      },
      "execution_count": 137,
      "outputs": [
        {
          "output_type": "stream",
          "name": "stdout",
          "text": [
            "Resultados Modelo 3:\n",
            "Erro absoluto médio: 0.1505\n",
            "Erro quadrático médio: 0.0369\n",
            "R-quadrado: 0.4385\n"
          ]
        }
      ]
    },
    {
      "cell_type": "markdown",
      "source": [
        "### Análise de resultados dos modelos\n",
        "\n",
        "Podemos perceber que todos tem bons resultados, com uma taxa de erro absoluto menor que 0.2. Porém percebemos que o modelo originado pela escala 2 é um pouco menos preciso que os outros dois. E também podemos inferir que o modelo 1 e o modelo 3 são praticamente iguais no quesito performance, tendo os mesmos resultados nas métricas de desempenho. Dessa maneira escolheremos o modelo 3 por ter um número bem menor de dimensões e mantendo a precisão do algorítmo."
      ],
      "metadata": {
        "id": "pbZ9NnKsWFow"
      }
    },
    {
      "cell_type": "code",
      "source": [
        "# Salvando o modelo em arquivo .pkl\n",
        "joblib.dump(model_3, \"modelo_imdb.pkl\")"
      ],
      "metadata": {
        "colab": {
          "base_uri": "https://localhost:8080/"
        },
        "id": "TR5oieQ0ofcL",
        "outputId": "65ad7a10-6815-4ce5-f4a6-71f110cdb96a"
      },
      "execution_count": 146,
      "outputs": [
        {
          "output_type": "execute_result",
          "data": {
            "text/plain": [
              "['modelo_imdb.pkl']"
            ]
          },
          "metadata": {},
          "execution_count": 146
        }
      ]
    },
    {
      "cell_type": "markdown",
      "source": [
        "### Preparando o novo filme para a previsão\n",
        "\n",
        "Para utilizarmos o modelo nesse novo filme, temos que preparar ele para os moldes que o modelo foi treinado. Para isso ele passa pela mesma pipeline de tratamento e limpeza de dados feita no dataframe original."
      ],
      "metadata": {
        "id": "nNECql63W2F6"
      }
    },
    {
      "cell_type": "code",
      "source": [
        "novo_filme = {'Series_Title': 'The Shawshank Redemption',\n",
        " 'Released_Year': '1994',\n",
        " 'Certificate': 'A',\n",
        " 'Runtime': '142 min',\n",
        " 'Genre': 'Drama',\n",
        " 'Overview': 'Two imprisoned men bond over a number of years, finding solace and eventual redemption through acts of common decency.',\n",
        " 'Meta_score': 80.0,\n",
        " 'Director': 'Frank Darabont',\n",
        " 'Star1': 'Tim Robbins',\n",
        " 'Star2': 'Morgan Freeman',\n",
        " 'Star3': 'Bob Gunton',\n",
        " 'Star4': 'William Sadler',\n",
        " 'No_of_Votes': 2343110,\n",
        " 'Gross': '28,341,469'}\n",
        "\n",
        "novo_filme_df = pd.DataFrame([novo_filme])\n",
        "\n",
        "# Aplicar o mesmo pipeline de tratamento e limpeza\n",
        "novo_filme_df['Runtime'] = novo_filme_df['Runtime'].str.replace(' min', '').astype(int)\n",
        "novo_filme_df['Gross'] = pd.to_numeric(novo_filme_df['Gross'].str.replace(',', '', regex=False), errors='coerce')\n",
        "novo_filme_df['Released_Year'] = pd.to_numeric(novo_filme_df['Released_Year'], errors='coerce')\n",
        "novo_filme_df['Certificate'].fillna(novo_filme_df['Certificate'].mode()[0], inplace=True)\n",
        "novo_filme_df['Released_Year'].fillna(novo_filme_df['Released_Year'].mode()[0], inplace=True)\n",
        "\n",
        "genre_dummies_new = novo_filme_df['Genre'].str.get_dummies(sep=', ')\n",
        "certificate_dummies_new = pd.get_dummies(novo_filme_df['Certificate'], prefix='Cert')\n",
        "director_dummies_new = pd.get_dummies(novo_filme_df['Director'], prefix='Director')\n",
        "star1_dummies_new = pd.get_dummies(novo_filme_df['Star1'], prefix='Star1')\n",
        "star2_dummies_new = pd.get_dummies(novo_filme_df['Star2'], prefix='Star2')\n",
        "star3_dummies_new = pd.get_dummies(novo_filme_df['Star3'], prefix='Star3')\n",
        "star4_dummies_new = pd.get_dummies(novo_filme_df['Star4'], prefix='Star4')\n",
        "novo_filme_df = pd.concat([novo_filme_df, genre_dummies_new, certificate_dummies_new, director_dummies_new, star1_dummies_new, star2_dummies_new, star3_dummies_new, star4_dummies_new], axis=1)\n",
        "\n",
        "novo_filme_df.drop(columns=['Genre', 'Certificate', 'Director', 'Star1', 'Star2', 'Star3', 'Star4'], inplace=True)\n",
        "\n",
        "# Alinhar as colunas do filme com as do modelo\n",
        "novo_filme_processed_3 = novo_filme_df.reindex(columns=final_feature_columns_3, fill_value=0)\n",
        "\n",
        "# Normalizar o filme\n",
        "novo_filme_processed_3[colunas_para_normalizar_3] = scaler_3.transform(novo_filme_processed_3[colunas_para_normalizar_3])"
      ],
      "metadata": {
        "colab": {
          "base_uri": "https://localhost:8080/"
        },
        "id": "oRoE-b79dVNz",
        "outputId": "9303fa61-ac83-4a4b-c4b8-69a6d09448fd"
      },
      "execution_count": 138,
      "outputs": [
        {
          "output_type": "stream",
          "name": "stderr",
          "text": [
            "/tmp/ipython-input-3235115172.py:22: FutureWarning: A value is trying to be set on a copy of a DataFrame or Series through chained assignment using an inplace method.\n",
            "The behavior will change in pandas 3.0. This inplace method will never work because the intermediate object on which we are setting values always behaves as a copy.\n",
            "\n",
            "For example, when doing 'df[col].method(value, inplace=True)', try using 'df.method({col: value}, inplace=True)' or df[col] = df[col].method(value) instead, to perform the operation inplace on the original object.\n",
            "\n",
            "\n",
            "  novo_filme_df['Certificate'].fillna(novo_filme_df['Certificate'].mode()[0], inplace=True)\n",
            "/tmp/ipython-input-3235115172.py:23: FutureWarning: A value is trying to be set on a copy of a DataFrame or Series through chained assignment using an inplace method.\n",
            "The behavior will change in pandas 3.0. This inplace method will never work because the intermediate object on which we are setting values always behaves as a copy.\n",
            "\n",
            "For example, when doing 'df[col].method(value, inplace=True)', try using 'df.method({col: value}, inplace=True)' or df[col] = df[col].method(value) instead, to perform the operation inplace on the original object.\n",
            "\n",
            "\n",
            "  novo_filme_df['Released_Year'].fillna(novo_filme_df['Released_Year'].mode()[0], inplace=True)\n"
          ]
        }
      ]
    },
    {
      "cell_type": "markdown",
      "source": [
        "### Utilização do Modelo\n",
        "\n",
        "Agora utilizamos o modelo para prever a Nota IMDB do filme Shawshank Redemption."
      ],
      "metadata": {
        "id": "UFLWfelcXS1h"
      }
    },
    {
      "cell_type": "code",
      "source": [
        "previsao = model_3.predict(novo_filme_processed_3)\n",
        "\n",
        "print(f\"\\nNota IMDB prevista: {previsao[0]:.2f}\")"
      ],
      "metadata": {
        "colab": {
          "base_uri": "https://localhost:8080/"
        },
        "id": "C0Ekb0dQgk-c",
        "outputId": "a930132b-e1ce-4517-d6b5-4df0760bf7e6"
      },
      "execution_count": 139,
      "outputs": [
        {
          "output_type": "stream",
          "name": "stdout",
          "text": [
            "\n",
            "Nota IMDB prevista: 8.78\n"
          ]
        }
      ]
    },
    {
      "cell_type": "markdown",
      "source": [
        "### Análise dos Resultados\n",
        "\n",
        "A nota prevista foi de 8.78, e a nota real desse filme é de 9.3. Assim o modelo teve um erro bruto de 0.52, que é maior que a média de erro do modelo que foi de 0.15. Isso é normal de acontecer pois esse é o filme mais bem ranqueado do IMDB, então seria difícil para o modelo ranquear ele da mesma maneira. Porém o modelo previu uma nota bem alta para o filme o ranqueando na 13º posição do database, assim entendemos que o modelo conseguiu identificar que o filme tem altíssima qualidade."
      ],
      "metadata": {
        "id": "uA90pey3XgUq"
      }
    },
    {
      "cell_type": "markdown",
      "source": [
        "### Pergunta: Qual filme você recomendaria para uma pessoa que você não conhece?\n",
        "\n",
        "Resposta: Eu recomendaria os filmes melhor ranqueados pela nota do imdb, pois como a nota do imdb é uma nota feita pelo público. Se eu nao tenho nenhum conhecimento prévio da pessoa a escolha segura é recomendar os filmes que tenham as maiores notas.\n",
        "\n",
        "Os filmes com as 5 maiores notas baseado no database fornecido:\n",
        "1. The Godfather\n",
        "2. The Dark Night\n",
        "3. The Lord of The rings\n",
        "4. 12 Angry Men\n",
        "5. The Lord of the Rings: The Return of the King\n",
        "\n",
        "Porem eu definitivamente recomendaria também Shawshank Redemption, que é a maior nota do IMDB."
      ],
      "metadata": {
        "id": "P2gm_ca1hww5"
      }
    },
    {
      "cell_type": "code",
      "source": [
        "print(df['Series_Title'].head(5))"
      ],
      "metadata": {
        "colab": {
          "base_uri": "https://localhost:8080/"
        },
        "id": "j9jJNkBMh2YA",
        "outputId": "829ac11d-6693-4512-ae20-8fb7d66dd044"
      },
      "execution_count": 140,
      "outputs": [
        {
          "output_type": "stream",
          "name": "stdout",
          "text": [
            "0                                    The Godfather\n",
            "1                                  The Dark Knight\n",
            "2                           The Godfather: Part II\n",
            "3                                     12 Angry Men\n",
            "4    The Lord of the Rings: The Return of the King\n",
            "Name: Series_Title, dtype: object\n"
          ]
        }
      ]
    },
    {
      "cell_type": "markdown",
      "source": [
        "### Pergunta: Quais são os principais fatores que estão relacionados com alta expectativa de faturamento de um filme?\n",
        "\n",
        "Resposta: Como analisado durante o processo, os fatores que mais inluenciam no faturamento positivamente são: o número de votos, se o filme é do gênero ação e aventura. E os que mais influenciam negativamente no faturamento é se o filme é do gênero drama.\n",
        "\n",
        "Isso se analisa que quanto mais engajamento o filme tem, mais gera a vontade das pessoas de irem aos cinamas assistir o filme, assim gerando mais faturamento. Também podemos inferir que o público que vai ao cinema tem uma clara preferência por filmes de ação e aventura e uma certa aversão a filmes de drama."
      ],
      "metadata": {
        "id": "E8GlF_a0i_M3"
      }
    },
    {
      "cell_type": "code",
      "source": [
        "print(gross_correlations)"
      ],
      "metadata": {
        "colab": {
          "base_uri": "https://localhost:8080/"
        },
        "id": "gBSRDz-ZjYf_",
        "outputId": "7e0d0044-5d22-43fd-fe09-d1648b6f3f73"
      },
      "execution_count": 141,
      "outputs": [
        {
          "output_type": "stream",
          "name": "stdout",
          "text": [
            "No_of_Votes      0.589527\n",
            "Adventure        0.451594\n",
            "Action           0.320713\n",
            "Released_Year    0.234115\n",
            "Sci-Fi           0.205171\n",
            "Animation        0.161705\n",
            "Runtime          0.140002\n",
            "IMDB_Rating      0.099393\n",
            "Fantasy          0.099352\n",
            "Family           0.056102\n",
            "Western         -0.018606\n",
            "Comedy          -0.019715\n",
            "Sport           -0.020099\n",
            "History         -0.026716\n",
            "Meta_score      -0.030480\n",
            "Thriller        -0.033501\n",
            "Horror          -0.042222\n",
            "Biography       -0.042270\n",
            "Musical         -0.057152\n",
            "War             -0.059058\n",
            "Music           -0.065199\n",
            "Film-Noir       -0.066753\n",
            "Unnamed: 0      -0.068809\n",
            "Mystery         -0.081972\n",
            "Romance         -0.097186\n",
            "Crime           -0.127196\n",
            "Drama           -0.319840\n",
            "Name: Gross, dtype: float64\n"
          ]
        }
      ]
    },
    {
      "cell_type": "markdown",
      "source": [
        "### Pergunta: Quais insights podem ser tirados com a coluna Overview? É possível inferir o gênero do filme a partir dessa coluna?\n",
        "\n",
        "Resposta: A coluna Overview contém dados de texto não estruturados. Usando técnicas de Processamento de Linguagem Natural, podemos extrair insights que não são aparentes em colunas numéricas ou categóricas. Podemos sim inferir o gênero do filme a partir da coluna Overview, para realizar isso temos que ensinar um modelo a reconhecer os padrões de palavras presentes em cada gênero."
      ],
      "metadata": {
        "id": "cjp-cn9nkf-m"
      }
    }
  ]
}